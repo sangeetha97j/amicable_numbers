{
 "cells": [
  {
   "cell_type": "code",
   "execution_count": 1,
   "id": "cf12f727",
   "metadata": {},
   "outputs": [
    {
     "name": "stdout",
     "output_type": "stream",
     "text": [
      "enter the starting number greater than or equal to 22\n",
      "enter the ending number3000\n",
      "[(220, 284), (284, 220), (1184, 1210), (1210, 1184), (2620, 2924), (2924, 2620)]\n"
     ]
    }
   ],
   "source": [
    "x=int(input(\"enter the starting number greater than or equal to 2\"))\n",
    "y=int(input(\"enter the ending number\"))\n",
    "ami={}\n",
    "lis=[]\n",
    "for i in range(x,y):\n",
    "    add=0\n",
    "    for j in range(1,i): \n",
    "        if i%j==0:\n",
    "            add=add+j\n",
    "    lis.append(add)\n",
    "for i in range(len(lis)):\n",
    "    ami[i+2]=lis[i]\n",
    "amicables = [(n, ami[n]) for n in ami if ami[n] in ami and ami[ami[n]]==n and n != ami[n] ]\n",
    "print(amicables)"
   ]
  },
  {
   "cell_type": "code",
   "execution_count": null,
   "id": "3d1775f3",
   "metadata": {},
   "outputs": [],
   "source": []
  }
 ],
 "metadata": {
  "kernelspec": {
   "display_name": "Python 3 (ipykernel)",
   "language": "python",
   "name": "python3"
  },
  "language_info": {
   "codemirror_mode": {
    "name": "ipython",
    "version": 3
   },
   "file_extension": ".py",
   "mimetype": "text/x-python",
   "name": "python",
   "nbconvert_exporter": "python",
   "pygments_lexer": "ipython3",
   "version": "3.9.13"
  }
 },
 "nbformat": 4,
 "nbformat_minor": 5
}
